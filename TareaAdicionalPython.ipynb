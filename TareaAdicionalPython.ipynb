{
  "cells": [
    {
      "cell_type": "markdown",
      "metadata": {
        "id": "m5rJUGkgqezr"
      },
      "source": [
        "## Adicionales clase 2\n",
        "\n",
        "Estos ejercicios tienen un nivel de dificultad un poco mas elevado. Cada ejercicio tiene una función de test para chequear si lo que hicieron esta bien. "
      ]
    },
    {
      "cell_type": "code",
      "execution_count": 30,
      "metadata": {
        "id": "Q-fTVBXTqezr",
        "colab": {
          "base_uri": "https://localhost:8080/"
        },
        "outputId": "19eaf845-e502-463e-9a7e-44c9bf8d613c"
      },
      "outputs": [
        {
          "output_type": "stream",
          "name": "stdout",
          "text": [
            "--2022-05-30 03:33:23--  https://datasets-humai.s3.amazonaws.com/datasets/test_intro_clase2.zip\n",
            "Resolving datasets-humai.s3.amazonaws.com (datasets-humai.s3.amazonaws.com)... 52.217.75.225\n",
            "Connecting to datasets-humai.s3.amazonaws.com (datasets-humai.s3.amazonaws.com)|52.217.75.225|:443... connected.\n",
            "HTTP request sent, awaiting response... 200 OK\n",
            "Length: 3265 (3.2K) [application/zip]\n",
            "Saving to: ‘test_intro_clase2.zip.1’\n",
            "\n",
            "test_intro_clase2.z 100%[===================>]   3.19K  --.-KB/s    in 0s      \n",
            "\n",
            "2022-05-30 03:33:24 (71.0 MB/s) - ‘test_intro_clase2.zip.1’ saved [3265/3265]\n",
            "\n",
            "Archive:  test_intro_clase2.zip\n",
            "replace README.txt? [y]es, [n]o, [A]ll, [N]one, [r]ename: y\n",
            "  inflating: README.txt              \n",
            "replace test/borges1.txt? [y]es, [n]o, [A]ll, [N]one, [r]ename: A\n",
            "  inflating: test/borges1.txt        \n",
            "  inflating: test/borges1_encriptado_6.txt  \n",
            "  inflating: test/borges1_encriptado_6_cap.txt  \n",
            "  inflating: test/borges2.txt        \n",
            "  inflating: test/borges2_encriptado_11.txt  \n",
            "  inflating: test/borges2_encriptado_11_cap.txt  \n",
            "  inflating: test.py                 \n"
          ]
        }
      ],
      "source": [
        "!wget https://datasets-humai.s3.amazonaws.com/datasets/test_intro_clase2.zip\n",
        "!unzip test_intro_clase2.zip"
      ]
    },
    {
      "cell_type": "code",
      "execution_count": 31,
      "metadata": {
        "id": "PebUX5ECqezs",
        "colab": {
          "base_uri": "https://localhost:8080/"
        },
        "outputId": "60b7580d-fe02-47ad-afd0-a6a43b833076"
      },
      "outputs": [
        {
          "output_type": "stream",
          "name": "stdout",
          "text": [
            "The autoreload extension is already loaded. To reload it, use:\n",
            "  %reload_ext autoreload\n"
          ]
        }
      ],
      "source": [
        "%load_ext autoreload\n",
        "%autoreload 2\n",
        "from test import *"
      ]
    },
    {
      "cell_type": "markdown",
      "metadata": {
        "id": "9AD3Sj4Mqezt"
      },
      "source": [
        "### Juego de espías (Fácil)\n",
        "El espía Ramsay debe codificar los mensajes que le mandan otros espías sobre la cantidad de tropas que tiene el enemigo en distintos cuarteles. Para esto, otro espía le manda una tira de números con un pequeño truco. Esta tira de números estan separados por `-`, pero para que no sea tan fácil saber que esta informando, la cantidad de tropas esta levemente escondida y también esta escondido el número del cuartel. El cuartel estará escondido en el último lugar de la tira y para obtener la cantidad de tropas aproximadas se deben sumar todos los números que son divisibles por el número del cuartel de la tira. Crear una función que reciba el string de la tira de números y devuelva la cantidad de tropas que hay en el cuartel enemigo como una tupla. Adicionalmente, podria imprimir un mensaje con la información requerida.\n",
        "\n",
        "Ej:\n",
        "```Python\n",
        "INPUT:\n",
        "tira_numeros = '29-32-1-5-65-12345-0-12-2'\n",
        "OUTPUT: \n",
        "(2, 44)\n",
        "    \"En el cuartel número 2 hay 44 soldados\"\n",
        "```"
      ]
    },
    {
      "cell_type": "code",
      "execution_count": 32,
      "metadata": {
        "id": "_CJC-3Euqezu"
      },
      "outputs": [],
      "source": [
        "def informe_espia(tira_numeros):\n",
        "\n",
        "    lista_numeros = tira_numeros.split(sep=\"-\")\n",
        "\n",
        "    cuartel = int(lista_numeros.pop())\n",
        "\n",
        "    informe = 0\n",
        "\n",
        "    for numero in lista_numeros:\n",
        "      numero = int(numero)\n",
        "      if numero % cuartel == 0:\n",
        "        informe += numero\n",
        "    \n",
        "    return (cuartel,informe)"
      ]
    },
    {
      "cell_type": "code",
      "execution_count": 34,
      "metadata": {
        "id": "eCWQfDLCqezu",
        "colab": {
          "base_uri": "https://localhost:8080/"
        },
        "outputId": "4351f288-d52c-498d-c73e-7c70157e9674"
      },
      "outputs": [
        {
          "output_type": "stream",
          "name": "stdout",
          "text": [
            "Salio todo piola\n"
          ]
        }
      ],
      "source": [
        "test1(informe_espia)"
      ]
    },
    {
      "cell_type": "markdown",
      "metadata": {
        "id": "XpfMh8QHqezv"
      },
      "source": [
        "***\n",
        "### Codificador César (Intermedio)\n",
        "Una de las formas mas antiguas de crear un código encriptado es lo que se conoce como el encriptado César <https://es.wikipedia.org/wiki/Cifrado_C%C3%A9sar>. En este tipo de encriptado lo que se hace es \"girar\" el abecedario una determinada cantidad de pasos según una clave numérica (ver ejemplo). Crear una función que lea un string dentro de un txt en la misma ruta que esta notebook, tome una clave y devuelva el string encriptado con la clave César en *minúsculas* (asumir que el texto esta en castellano).\n",
        "\n",
        "Ej: Clave = 2\n",
        "\n",
        "| Letra   | Letra encriptada |\n",
        "| ------------- |:-------------:| \n",
        "| A | C | \n",
        "| B | D |\n",
        "| C | E |\n",
        "| ... | ... |\n",
        "| Y | A |\n",
        "| Z | B |\n",
        "\n",
        "```Python\n",
        "INPUT:\n",
        "'mi_archivo.txt' (\"Hola estudiante\"), clave = 1\n",
        "OUTPUT:\n",
        "\"Jqnc guvwfkcovg\"\n",
        "```\n",
        "\n",
        "*AYUDA*\n",
        "\n",
        "El método `mi_lista.index(elemento)` búsca el `elemento` en la lista `mi_lista` y devuelve la posición del elemento si lo encontró. Si no lo encontró devuelve un `ValueError`."
      ]
    },
    {
      "cell_type": "code",
      "execution_count": 56,
      "metadata": {
        "id": "VvnTZQ_aqezw"
      },
      "outputs": [],
      "source": [
        "def codificador_cesar(mensaje_path, clave):\n",
        "    \n",
        "  try:\n",
        "   with open(mensaje_path, 'r') as f:\n",
        "    mensaje_original = f.read()\n",
        "  finally:\n",
        "   f.close()\n",
        "\n",
        "  abecedario = 'abcdefghijklmnñopqrstuvwxyz'\n",
        "  abecedario_cifrado = []\n",
        "\n",
        "  contador = 0\n",
        "  for letra in abecedario:\n",
        "    abecedario_cifrado.append(abecedario[(contador+clave)%27])\n",
        "    contador += 1\n",
        "  \n",
        "  cifrado = []\n",
        "\n",
        "  for letra in mensaje_original:\n",
        "    if letra.lower() in abecedario:\n",
        "      letra_correspondiente = abecedario_cifrado[abecedario.index(letra.lower())]\n",
        "      if letra.isupper():\n",
        "        cifrado.append(letra_correspondiente)\n",
        "        #cifrado.append(letra_correspondiente.upper()) Pensé que tenía que reconocer las mayusculas\n",
        "      else:\n",
        "        cifrado.append(letra_correspondiente)\n",
        "    else:\n",
        "      cifrado.append(letra)\n",
        "  \n",
        "  cifrado = str(\"\".join([str(letra) for letra in cifrado]))\n",
        "  \n",
        "  return cifrado"
      ]
    },
    {
      "cell_type": "code",
      "execution_count": 57,
      "metadata": {
        "id": "01v-g4Onqezw",
        "colab": {
          "base_uri": "https://localhost:8080/"
        },
        "outputId": "52e51909-1081-4f64-aa32-5737aaddf8e5"
      },
      "outputs": [
        {
          "output_type": "stream",
          "name": "stdout",
          "text": [
            "¡Mensaje encriptado correctamente! Son hackers.\n"
          ]
        }
      ],
      "source": [
        "test2(codificador_cesar)"
      ]
    },
    {
      "cell_type": "markdown",
      "metadata": {
        "id": "u7K-QIGaqezx"
      },
      "source": [
        "**OPCIONALES** \n",
        "\n",
        "- Hacer que la función guarde la salida como un archivo de texto.\n",
        "- Podemos encriptar respetando mayúsculas. Adaptar la función para que lo haga. Se puede usar la funcion test2_mayusculas para probarla. Sugerencia: Mirar el método `isupper()` para los strings.\n",
        "- Adaptar la función anterior pero para desencriptar, una función que cree una lista con todas las posibles rotaciones del texto."
      ]
    },
    {
      "cell_type": "markdown",
      "metadata": {
        "id": "55S1yMowqezx"
      },
      "source": [
        "***\n",
        "### La calesita (Rompecoco) \n",
        "El señor Jacinto es dueño de una antigua calesita con animalitos que no funciona hace varios años y quiere volver a ponerla en funcionamiento. Para eso va a probarla prendiendola y viendo cuanto rota segun la cantidad de movimientos. \n",
        "\n",
        "Crear una función que reciba una lista de strings (con la primera en mayúscula) con los animales que componen la calesita, una cantidad de ciclos(n_ciclos) y devuelva la misma lista pero rotada hacia la derecha esa cantidad de movimientos, donde un movimiento es cambiar todos los animales una posición hacia la derecha:\n",
        "\n",
        "Ej:\n",
        "``` Python\n",
        "INPUT:\n",
        "['Unicornio','Oso','Jirafa', 'Pato'. 'Elefante'], movimiento = 1\n",
        "OUTPUT:\n",
        "['Elefante', 'Unicornio', 'Oso', 'Jirafa', 'Pato']\n",
        "```"
      ]
    },
    {
      "cell_type": "code",
      "execution_count": 80,
      "metadata": {
        "id": "00UV9MP5qezy"
      },
      "outputs": [],
      "source": [
        "def probar_calesita(calesita, n_movimientos):\n",
        "    # Proba la calesita\n",
        "    \n",
        "    cant_animales = len(calesita)\n",
        "    calesita_girada = []\n",
        "    tuplasPosiciones = [] \n",
        "\n",
        "    for animal in calesita:\n",
        "      posicion_original = calesita.index(animal)\n",
        "      posicion_girada = (posicion_original + n_movimientos)%cant_animales\n",
        "      tuplasPosiciones.append((posicion_original, posicion_girada))\n",
        "    \n",
        "    for contador in range(0, cant_animales):\n",
        "      contadorTupla = 0\n",
        "      while True:\n",
        "        if tuplasPosiciones[contadorTupla][1] == contador:\n",
        "          calesita_girada.append(calesita[tuplasPosiciones[contadorTupla][0]])\n",
        "          break\n",
        "        else:\n",
        "          contadorTupla += 1\n",
        "\n",
        "    return calesita_girada"
      ]
    },
    {
      "cell_type": "code",
      "execution_count": 81,
      "metadata": {
        "id": "gNrgpeS2qezy",
        "colab": {
          "base_uri": "https://localhost:8080/"
        },
        "outputId": "6876f298-2b18-4306-cb48-c362e6d7bb36"
      },
      "outputs": [
        {
          "output_type": "stream",
          "name": "stdout",
          "text": [
            "¡La calesita anda!\n"
          ]
        }
      ],
      "source": [
        "test3(probar_calesita)"
      ]
    },
    {
      "cell_type": "markdown",
      "metadata": {
        "id": "rmwCD-fqqezy"
      },
      "source": [
        "Cuando prueba la calesita se da cuenta que es muy lenta. Debe sacar uno de los animales para que pueda funcionar correctamente. Para eso los manda a pesar y le dicen cual es el que hay que sacar para que funcione perfectamente.\n",
        "\n",
        "Modificar la función anterior para que reciba un string, que es un animal en MAYÚSCULAS (animal_quitar) para sacar y pruebe la función nuevamente.\n",
        "\n",
        "Ej:\n",
        "```Python\n",
        "INPUT:\n",
        "['Unicornio','Oso','Jirafa', 'Pato'. 'Elefante'], animal_quitar = 'JIRAFA', movimientos = 1\n",
        "OUTPUT:\n",
        "['Elefante', 'Unicornio', 'Oso', 'Pato']\n",
        "```"
      ]
    },
    {
      "cell_type": "code",
      "execution_count": 79,
      "metadata": {
        "id": "fA4D9NrOqezy"
      },
      "outputs": [],
      "source": [
        "def probar_calesita_arreglada(calesita, n_mov, animal_quitar):\n",
        "\n",
        "  nueva_calesita = []\n",
        "  \n",
        "  for animal in calesita:\n",
        "    if animal == animal_quitar.title():\n",
        "      continue\n",
        "    else:\n",
        "      nueva_calesita.append(animal)\n",
        "    \n",
        "  return probar_calesita(nueva_calesita, n_mov)"
      ]
    },
    {
      "cell_type": "code",
      "execution_count": 78,
      "metadata": {
        "id": "4IpN3eDzqezz",
        "colab": {
          "base_uri": "https://localhost:8080/"
        },
        "outputId": "f62f8630-eb86-4b15-fcec-47e177d10c0f"
      },
      "outputs": [
        {
          "output_type": "stream",
          "name": "stdout",
          "text": [
            "¡Perfecto! Ahora a ganar dinero para Jacinto\n"
          ]
        }
      ],
      "source": [
        "test4(probar_calesita_arreglada)"
      ]
    }
  ],
  "metadata": {
    "kernelspec": {
      "display_name": "Python 3",
      "language": "python",
      "name": "python3"
    },
    "language_info": {
      "codemirror_mode": {
        "name": "ipython",
        "version": 3
      },
      "file_extension": ".py",
      "mimetype": "text/x-python",
      "name": "python",
      "nbconvert_exporter": "python",
      "pygments_lexer": "ipython3",
      "version": "3.8.3"
    },
    "colab": {
      "name": "Tarea adicional de Python - Javier Vente.ipynb",
      "provenance": [],
      "collapsed_sections": []
    }
  },
  "nbformat": 4,
  "nbformat_minor": 0
}
