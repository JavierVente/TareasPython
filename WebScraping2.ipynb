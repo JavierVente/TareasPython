{
  "nbformat": 4,
  "nbformat_minor": 0,
  "metadata": {
    "colab": {
      "name": "Web_Scraping2.ipynb",
      "provenance": []
    },
    "kernelspec": {
      "name": "python3",
      "display_name": "Python 3"
    },
    "language_info": {
      "name": "python"
    }
  },
  "cells": [
    {
      "cell_type": "markdown",
      "source": [
        "Siguiendo con lo aprendido en la clase de hoy, realizar los siguientes ejercicios."
      ],
      "metadata": {
        "id": "1kf6FNf6d7fb"
      }
    },
    {
      "cell_type": "markdown",
      "source": [
        "**Cortazar**\n",
        "\n",
        "Este ejemplo devuelve todos los títulos de los cuentos de Cortazar."
      ],
      "metadata": {
        "id": "klH0BZ0Sdn06"
      }
    },
    {
      "cell_type": "code",
      "source": [
        "# Creo carpeta donde voy a guardar los cuentos\n",
        "!mkdir -p multimedia/cortazar/\n",
        "\n",
        "import re\n",
        "codigo_html_crudo = codigo_html('http://ciudadseva.com/autor/julio-cortazar/cuentos/')\n",
        "\n",
        "regla_para_url_de_un_cuento = r'(https://ciudadseva.com/texto/.+/)'\n",
        "\n",
        "for url_de_un_cuento in re.findall(regla_para_url_de_un_cuento, codigo_html_crudo):\n",
        "    codigo_html_interpretado = BeautifulSoup(codigo_html(url_de_un_cuento), 'html.parser')\n",
        "    elem = codigo_html_interpretado.find(\"div\", { \"class\" : \"text-justify\" })\n",
        "    cuento = elem.text\n",
        "    \n",
        "    # Asi podemos guardar los resultados\n",
        "    nombre_del_archivo = url_de_un_cuento.split('/')[-2]\n",
        "    with open (f\"multimedia/cortazar/{nombre_del_archivo}.txt\", 'w') as out:\n",
        "        print(f'Guardando {nombre_del_archivo}')\n",
        "        out.write(cuento)"
      ],
      "metadata": {
        "id": "Za9JXTH7duwt"
      },
      "execution_count": null,
      "outputs": []
    },
    {
      "cell_type": "markdown",
      "source": [
        "## Práctica: Mercadolibre\n",
        "\n",
        "# <font color='blue'> Ejercicio </font>\n",
        "\n",
        "Descargá y calculá el promedio de los precios que aparecen en la primer página de mercado libre al buscar gibson"
      ],
      "metadata": {
        "id": "izp8igcQeN-m"
      }
    },
    {
      "cell_type": "code",
      "source": [
        "import requests\n",
        "import re\n",
        "from bs4 import BeautifulSoup"
      ],
      "metadata": {
        "id": "GSQYB6Stmo8t"
      },
      "execution_count": 4,
      "outputs": []
    },
    {
      "cell_type": "code",
      "source": [
        "# Resolución\n",
        "def precios_gibson():\n",
        "  url = \"https://listado.mercadolibre.com.ar/gibson\"\n",
        "  #soup = BeautifulSoup(codigo_html(url), 'html.parser')\n",
        "  \n",
        "  r = requests.get(url)\n",
        "  content = r.content\n",
        "  soup = BeautifulSoup(content)\n",
        "\n",
        "  prices = []\n",
        "  for producto in soup.find_all('div', attrs={\"ui-search-result__wrapper\"}):\n",
        "\n",
        "    precio_y_moneda = producto.find('span', attrs={'price-tag-text-sr-only'}).text.split(sep=' ')\n",
        "    \n",
        "    try:\n",
        "      prices.append(int(precio_y_moneda[0]))\n",
        "    except:\n",
        "      prices.append(-1)\n",
        "  \n",
        "  suma_prices = 0\n",
        "  cant_prices = 0\n",
        "  for precio in prices:\n",
        "    if precio != -1:\n",
        "      suma_prices += precio\n",
        "      cant_prices += 1\n",
        "  \n",
        "  promedio_prices = suma_prices / cant_prices\n",
        "\n",
        "  return promedio_prices"
      ],
      "metadata": {
        "id": "HmVDCu1rebqH"
      },
      "execution_count": 19,
      "outputs": []
    },
    {
      "cell_type": "code",
      "source": [
        "print(\"El precio promedio hallado en la pagina es de \" + str(precios_gibson()) + \" pesos argentinos\")"
      ],
      "metadata": {
        "colab": {
          "base_uri": "https://localhost:8080/"
        },
        "id": "qeSjrBi3moe8",
        "outputId": "81b37b18-82d0-40b0-8028-e52755ecb39c"
      },
      "execution_count": 20,
      "outputs": [
        {
          "output_type": "stream",
          "name": "stdout",
          "text": [
            "El precio promedio hallado en la pagina es de 840702.5208333334 pesos argentinos\n"
          ]
        }
      ]
    }
  ]
}
