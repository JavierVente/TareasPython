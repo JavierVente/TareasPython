{
  "cells": [
    {
      "cell_type": "markdown",
      "metadata": {
        "id": "vpHWFZ2zp1GT"
      },
      "source": [
        "<a href=\"https://colab.research.google.com/github/institutohumai/cursos-python/blob/master/Introduccion/2_Listas_Y_Funciones/ejercicio/ejercicio-solucion.ipynb\"> <img src='https://colab.research.google.com/assets/colab-badge.svg' /> </a>\n",
        "<div align=\"center\"> Recordá abrir en una nueva pestaña </div>"
      ]
    },
    {
      "cell_type": "markdown",
      "metadata": {
        "id": "ld4vRnjLp1GX"
      },
      "source": [
        "## El contador de palabras\n",
        "\n",
        "Una revista científica quiere publicar los abstracts de los trabajos que aprobó recientemente pero primero tiene que asegurarse de que ninguno de los abstracts tenga más de 200 palabras. \n",
        "\n",
        "Para interactuar con los archivos que tenemos en nuestro \"file system\" vamos a utilizar el módulo os. No se preocupen por entender todos los detalles ahora, vamos a ir profundizando en la utilización de módulos. "
      ]
    },
    {
      "cell_type": "code",
      "execution_count": 1,
      "metadata": {
        "id": "qJK-gsLFp1GY",
        "colab": {
          "base_uri": "https://localhost:8080/"
        },
        "outputId": "c3e1a46a-1c60-4ba8-bdab-1bccee471da7"
      },
      "outputs": [
        {
          "output_type": "stream",
          "name": "stdout",
          "text": [
            "--2022-05-27 01:33:05--  https://datasets-humai.s3.amazonaws.com/datasets/publicaciones.zip\n",
            "Resolving datasets-humai.s3.amazonaws.com (datasets-humai.s3.amazonaws.com)... 52.216.10.11\n",
            "Connecting to datasets-humai.s3.amazonaws.com (datasets-humai.s3.amazonaws.com)|52.216.10.11|:443... connected.\n",
            "HTTP request sent, awaiting response... 200 OK\n",
            "Length: 4342 (4.2K) [application/zip]\n",
            "Saving to: ‘publicaciones.zip’\n",
            "\n",
            "\rpublicaciones.zip     0%[                    ]       0  --.-KB/s               \rpublicaciones.zip   100%[===================>]   4.24K  --.-KB/s    in 0s      \n",
            "\n",
            "2022-05-27 01:33:05 (149 MB/s) - ‘publicaciones.zip’ saved [4342/4342]\n",
            "\n"
          ]
        }
      ],
      "source": [
        "!wget https://datasets-humai.s3.amazonaws.com/datasets/publicaciones.zip"
      ]
    },
    {
      "cell_type": "code",
      "execution_count": 2,
      "metadata": {
        "id": "mC3ASFBQp1GZ",
        "colab": {
          "base_uri": "https://localhost:8080/"
        },
        "outputId": "4f4eec01-a1a1-4796-847f-3e91d64701f9"
      },
      "outputs": [
        {
          "output_type": "stream",
          "name": "stdout",
          "text": [
            "Archive:  publicaciones.zip\n",
            "   creating: publicaciones/\n",
            "  inflating: publicaciones/Yukon Delta Salmon Management.txt  \n",
            "  inflating: publicaciones/The Citrus Solution Phase II.txt  \n",
            "  inflating: publicaciones/Characterization of Iron Deposition in Recombinant Heteropolymer.txt  \n",
            "  inflating: publicaciones/Using GIS Site Suitability Analysis to Study Adaptability.txt  \n"
          ]
        }
      ],
      "source": [
        "!unzip publicaciones.zip"
      ]
    },
    {
      "cell_type": "code",
      "execution_count": 3,
      "metadata": {
        "id": "B697jHOpp1Ga"
      },
      "outputs": [],
      "source": [
        "import os"
      ]
    },
    {
      "cell_type": "code",
      "execution_count": 4,
      "metadata": {
        "id": "Rh34XCj_p1Ga"
      },
      "outputs": [],
      "source": [
        "archivos_directorio = os.listdir('publicaciones')"
      ]
    },
    {
      "cell_type": "code",
      "execution_count": 5,
      "metadata": {
        "id": "ioCcLrfNp1Ga",
        "outputId": "9b9fc654-7450-46a9-f221-7bfb134e64d5",
        "colab": {
          "base_uri": "https://localhost:8080/"
        }
      },
      "outputs": [
        {
          "output_type": "stream",
          "name": "stdout",
          "text": [
            "['Using GIS Site Suitability Analysis to Study Adaptability.txt', 'The Citrus Solution Phase II.txt', 'Yukon Delta Salmon Management.txt', 'Characterization of Iron Deposition in Recombinant Heteropolymer.txt']\n"
          ]
        }
      ],
      "source": [
        "print(archivos_directorio)"
      ]
    },
    {
      "cell_type": "markdown",
      "metadata": {
        "id": "zkY3g8bKp1Gc"
      },
      "source": [
        "La función listdir nos devuelve una lista con todos los archivos que están en la carpeta publicaciones. Noten que solamente nos devuelve los nombres de los archivos, no la ruta completa que necesitamos para acceder a los mismos desde la ubicación en el filesystem donde se encuentra esta notebook.\n",
        "\n",
        "Las rutas hasta los archivos cambian con el sistema operativo, por eso si están en Windows, la forma de acceder al archivo Yukon Delta Salmon Management.txt es ejercicios\\\\Yukon Delta Salmon Management.txt mientras que si están en Linux o Unix la forma de acceder es ejercicios/Yukon Delta Salmon Management.txt .  Para evitar problemas y que el código sea ejecutable desde cualquier sistema operativo, el módulo os tiene la función os.join.\n",
        "\n",
        "Entonces para crear las rutas vamos a usar la función os.path.join y para esto es ideal una lista por comprensión"
      ]
    },
    {
      "cell_type": "code",
      "execution_count": 6,
      "metadata": {
        "id": "8qcOQvk6p1Gd"
      },
      "outputs": [],
      "source": [
        "rutas_archivos = [os.path.join('publicaciones',archivo) for archivo in archivos_directorio]"
      ]
    },
    {
      "cell_type": "code",
      "execution_count": 7,
      "metadata": {
        "id": "qWHlksiyp1Gd",
        "colab": {
          "base_uri": "https://localhost:8080/"
        },
        "outputId": "4139ba26-f18f-4d53-e6bc-3400a9315d65"
      },
      "outputs": [
        {
          "output_type": "execute_result",
          "data": {
            "text/plain": [
              "['publicaciones/Using GIS Site Suitability Analysis to Study Adaptability.txt',\n",
              " 'publicaciones/The Citrus Solution Phase II.txt',\n",
              " 'publicaciones/Yukon Delta Salmon Management.txt',\n",
              " 'publicaciones/Characterization of Iron Deposition in Recombinant Heteropolymer.txt']"
            ]
          },
          "metadata": {},
          "execution_count": 7
        }
      ],
      "source": [
        "rutas_archivos"
      ]
    },
    {
      "cell_type": "markdown",
      "metadata": {
        "id": "HFG_X1_mp1Ge"
      },
      "source": [
        "Ahora vamos a unir estas dos listas del mismo tamaño en una lista de tuplas utilizando la función \"zip\" de Python nativo. Como el zip de Python devuelve un objeto iterable, vamos a convertirlo en lista para trabajar mejor"
      ]
    },
    {
      "cell_type": "code",
      "execution_count": 8,
      "metadata": {
        "id": "IiCT5cLpp1Ge"
      },
      "outputs": [],
      "source": [
        "tuplas_archivos = list(zip(rutas_archivos,archivos_directorio))"
      ]
    },
    {
      "cell_type": "code",
      "execution_count": 9,
      "metadata": {
        "id": "DLNHWwMpp1Gf",
        "colab": {
          "base_uri": "https://localhost:8080/"
        },
        "outputId": "f3d0f905-ae86-43e6-de0a-1292ab7a0023"
      },
      "outputs": [
        {
          "output_type": "stream",
          "name": "stdout",
          "text": [
            "('publicaciones/Using GIS Site Suitability Analysis to Study Adaptability.txt', 'Using GIS Site Suitability Analysis to Study Adaptability.txt')\n",
            "('publicaciones/The Citrus Solution Phase II.txt', 'The Citrus Solution Phase II.txt')\n",
            "('publicaciones/Yukon Delta Salmon Management.txt', 'Yukon Delta Salmon Management.txt')\n",
            "('publicaciones/Characterization of Iron Deposition in Recombinant Heteropolymer.txt', 'Characterization of Iron Deposition in Recombinant Heteropolymer.txt')\n"
          ]
        }
      ],
      "source": [
        "for tupla in tuplas_archivos:\n",
        "    print(tupla)"
      ]
    },
    {
      "cell_type": "markdown",
      "metadata": {
        "id": "Pz50bDidp1Gf"
      },
      "source": [
        "Ahora sí, vamos a pedirles que creen una función que reciba una tupla con la ruta y el nombre del archivo. Necesitamos que esta función cuente las palabras que hay en el txt que se encuentra en esa ruta y luego imprima el nombre del archivo y la cantidad. \n",
        "Después vamos a escribir un for loop que recorra la lista tuplas_archivos y devuelve una tupla con el nombre del archivo y la cantidad de palabras. Desde el loop for vamos a imprimir esa tupla.\n"
      ]
    },
    {
      "cell_type": "code",
      "execution_count": 15,
      "metadata": {
        "id": "okc-lPJDp1Gf",
        "colab": {
          "base_uri": "https://localhost:8080/"
        },
        "outputId": "28c58df3-714f-4556-8668-8452a715b28a"
      },
      "outputs": [
        {
          "output_type": "stream",
          "name": "stdout",
          "text": [
            "Using GIS Site Suitability Analysis to Study Adaptability.txt tiene 134 palabras\n",
            "The Citrus Solution Phase II.txt tiene 519 palabras\n",
            "Yukon Delta Salmon Management.txt tiene 109 palabras\n",
            "Characterization of Iron Deposition in Recombinant Heteropolymer.txt tiene 217 palabras\n"
          ]
        }
      ],
      "source": [
        "# 1. Escribir la función\n",
        "\n",
        "def contadorDePalabrasEnArchivo(tuplasArchivos):\n",
        "  \n",
        "  tuplasNombreCantPalabras = []\n",
        "\n",
        "  for tuplaArchivo in tuplasArchivos:\n",
        "    \n",
        "    with open(tuplaArchivo[0], 'r') as inp:\n",
        "      listaPalabras = inp.read().split(sep=\" \")\n",
        "      \n",
        "    cantPalabras = len(listaPalabras)\n",
        "    nombreArchivo = tuplaArchivo[1]\n",
        "\n",
        "    tuplasNombreCantPalabras.append((nombreArchivo, cantPalabras))\n",
        "\n",
        "    print(nombreArchivo + \" tiene \" + str(cantPalabras) + \" palabras\")\n"
      ]
    },
    {
      "cell_type": "code",
      "execution_count": null,
      "metadata": {
        "id": "auKRfWcAp1Gg"
      },
      "outputs": [],
      "source": [
        "# 2. Recorrer en un loop tuplas_archivos invocando a la función\n",
        "\n",
        "contadorDePalabrasEnArchivo(tuplas_archivos)\n"
      ]
    },
    {
      "cell_type": "markdown",
      "metadata": {
        "id": "NOuQ1b0tp1Gg"
      },
      "source": [
        "Entonces ¿Cuáles superan las 250 palabras? Si quieren ir una milla extra modifiquen la función para que devuelva True si supera y False si no supera en lugar de devolver la cantidad. "
      ]
    },
    {
      "cell_type": "code",
      "execution_count": 22,
      "metadata": {
        "id": "vBcHO6B2p1Gg"
      },
      "outputs": [],
      "source": [
        "# 3. Modifiquen la función\n",
        "\n",
        "def contadorDePalabrasEnArchivoMod(tuplasArchivos, limitePalabras):\n",
        "  \n",
        "  tuplasNombreCantPalabras = []\n",
        "\n",
        "  for tuplaArchivo in tuplasArchivos:\n",
        "    \n",
        "    with open(tuplaArchivo[0], 'r') as inp:\n",
        "      listaPalabras = inp.read().split(sep=\" \")\n",
        "      \n",
        "    cantPalabras = len(listaPalabras)\n",
        "    nombreArchivo = tuplaArchivo[1]\n",
        "\n",
        "    if cantPalabras > limitePalabras:\n",
        "      superaLimite = True\n",
        "    else:\n",
        "      superaLimite = False\n",
        "\n",
        "    tuplasNombreCantPalabras.append((nombreArchivo, cantPalabras, superaLimite))\n",
        "\n",
        "    print(nombreArchivo + \" tiene \" + str(cantPalabras) + \" palabras, y es \" + str(superaLimite) + \" que supera las \" + str(limitePalabras) + \" palabras\")\n",
        "    print(\"\")\n",
        "    print(\"\")\n"
      ]
    },
    {
      "cell_type": "code",
      "execution_count": 25,
      "metadata": {
        "id": "uQDzg3Axp1Gh",
        "colab": {
          "base_uri": "https://localhost:8080/"
        },
        "outputId": "82990820-c4d7-408b-b9d1-f3395dc38435"
      },
      "outputs": [
        {
          "output_type": "stream",
          "name": "stdout",
          "text": [
            "Using GIS Site Suitability Analysis to Study Adaptability.txt tiene 134 palabras, y es False que supera las 200 palabras\n",
            "\n",
            "\n",
            "The Citrus Solution Phase II.txt tiene 519 palabras, y es True que supera las 200 palabras\n",
            "\n",
            "\n",
            "Yukon Delta Salmon Management.txt tiene 109 palabras, y es False que supera las 200 palabras\n",
            "\n",
            "\n",
            "Characterization of Iron Deposition in Recombinant Heteropolymer.txt tiene 217 palabras, y es True que supera las 200 palabras\n",
            "\n",
            "\n"
          ]
        }
      ],
      "source": [
        "#4. Vuelvan a llamarla\n",
        "contadorDePalabrasEnArchivoMod(tuplas_archivos, 200)"
      ]
    }
  ],
  "metadata": {
    "kernelspec": {
      "display_name": "conda_python3",
      "language": "python",
      "name": "conda_python3"
    },
    "language_info": {
      "codemirror_mode": {
        "name": "ipython",
        "version": 3
      },
      "file_extension": ".py",
      "mimetype": "text/x-python",
      "name": "python",
      "nbconvert_exporter": "python",
      "pygments_lexer": "ipython3",
      "version": "3.6.10"
    },
    "colab": {
      "name": "TareaPython2_ListasFunciones.ipynb",
      "provenance": [],
      "collapsed_sections": []
    }
  },
  "nbformat": 4,
  "nbformat_minor": 0
}