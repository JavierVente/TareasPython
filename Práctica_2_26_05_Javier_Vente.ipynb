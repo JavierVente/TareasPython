{
  "nbformat": 4,
  "nbformat_minor": 0,
  "metadata": {
    "colab": {
      "name": "Práctica 2 - 26.05 - Javier Vente.ipynb",
      "provenance": []
    },
    "kernelspec": {
      "name": "python3",
      "display_name": "Python 3"
    },
    "language_info": {
      "name": "python"
    }
  },
  "cells": [
    {
      "cell_type": "markdown",
      "source": [
        "### **LISTAS POR COMPRENSIÓN**"
      ],
      "metadata": {
        "id": "aBzLnG3vmkuA"
      }
    },
    {
      "cell_type": "markdown",
      "source": [
        "1- Dado el siguiente grupo de palabras, crear otra lista que contenga sólo la primera letra de cada una"
      ],
      "metadata": {
        "id": "3bdKwNuPmPFr"
      }
    },
    {
      "cell_type": "code",
      "execution_count": 1,
      "metadata": {
        "colab": {
          "base_uri": "https://localhost:8080/"
        },
        "id": "YXIQz1sQmKhC",
        "outputId": "faf3084d-26ef-4c8d-d0db-9d454e76d620"
      },
      "outputs": [
        {
          "output_type": "execute_result",
          "data": {
            "text/plain": [
              "['a', 'a', 'b', 'c', 'c']"
            ]
          },
          "metadata": {},
          "execution_count": 1
        }
      ],
      "source": [
        "lista = ['a','ante','bajo','cabe','con']\n",
        "\n",
        "primeraLetra = [palabra[0] for palabra in lista]\n",
        "primeraLetra"
      ]
    },
    {
      "cell_type": "markdown",
      "source": [
        "2- Dada la siguiente frase, crear una lista con el largo de cada palabra. Tip: Antes de aplicar listas por comprensión pueden usar la función split que vimos la clase pasada y la función replace para remover la puntuación."
      ],
      "metadata": {
        "id": "7RJNb232mjQW"
      }
    },
    {
      "cell_type": "code",
      "source": [
        "frase = 'Cambiar el mundo, amigo Sancho, no es ni utopía ni locura, es justicia'\n",
        "\n",
        "frase = frase.replace(\",\", \"\")\n",
        "\n",
        "listaPalabras = frase.split(sep=\" \")\n",
        "\n",
        "largoPalabras = [len(palabra) for palabra in listaPalabras]\n",
        "\n",
        "largoPalabras\n",
        "\n"
      ],
      "metadata": {
        "colab": {
          "base_uri": "https://localhost:8080/"
        },
        "id": "hjE5Nc4Smj_u",
        "outputId": "1d3e27db-f741-4af7-a537-58abd91b9b79"
      },
      "execution_count": 3,
      "outputs": [
        {
          "output_type": "execute_result",
          "data": {
            "text/plain": [
              "[7, 2, 5, 5, 6, 2, 2, 2, 6, 2, 6, 2, 8]"
            ]
          },
          "metadata": {},
          "execution_count": 3
        }
      ]
    },
    {
      "cell_type": "markdown",
      "source": [
        "."
      ],
      "metadata": {
        "id": "8oNEO9Gnofeh"
      }
    },
    {
      "cell_type": "markdown",
      "source": [
        "\n",
        "### **FUNCIONES**"
      ],
      "metadata": {
        "id": "QlQG4Ju5oDL0"
      }
    },
    {
      "cell_type": "markdown",
      "source": [
        "1- Escribir una función que reciba una lista con números y devuelva la suma de todos los pares"
      ],
      "metadata": {
        "id": "FWS75mEboG6G"
      }
    },
    {
      "cell_type": "code",
      "source": [
        "cantPares = 0"
      ],
      "metadata": {
        "id": "J3dd7RSkr8DU"
      },
      "execution_count": 6,
      "outputs": []
    },
    {
      "cell_type": "code",
      "source": [
        "\n",
        "\n",
        "def sumaDePares(listaNumeros):\n",
        "  sumaPares = 0\n",
        "  cantPares = 0\n",
        "  for numero in listaNumeros:\n",
        "    if numero % 2 == 0:\n",
        "      sumaPares += numero\n",
        "      cantPares += 1\n",
        "  return (sumaPares, cantPares)\n",
        "\n",
        "while True:\n",
        "  print(\"Ingrese la cantidad de numeros a ingresar\")\n",
        "\n",
        "  try:\n",
        "    print(\"   Cantidad de numeros: \")\n",
        "    cant_numeros = int(input())\n",
        "\n",
        "    if  cant_numeros < 0:\n",
        "      print(\"La cantidad de numeros debe ser positiva\")\n",
        "    else:\n",
        "      break\n",
        "    print(\"\")\n",
        "\n",
        "  except Exception as e:\n",
        "    print(\"Cantidad no valida de numeros\")\n",
        "\n",
        "numerosIngresados = []\n",
        "for contador in range (cant_numeros):\n",
        "  print(f\" Nº{contador}: \")\n",
        "  try:\n",
        "    numerosIngresados.append(int(input()))\n",
        "  except Exception as e2:\n",
        "    print(\"Numero ingresado no valido\")\n",
        "    contador -= 1\n",
        "\n",
        "resultadoFuncion = sumaDePares(numerosIngresados)\n",
        "\n",
        "sumaFinal = resultadoFuncion[0]\n",
        "cantPares = resultadoFuncion[1]\n",
        "\n",
        "print(f\"La suma de los {cantPares} numeros pares es de {sumaFinal}\")\n",
        "\n",
        "\n",
        "  \n",
        "\n"
      ],
      "metadata": {
        "colab": {
          "base_uri": "https://localhost:8080/"
        },
        "id": "Zjb-mLUIoblM",
        "outputId": "b7d1caab-e8ba-4d7c-c85e-015b35a1a386"
      },
      "execution_count": 11,
      "outputs": [
        {
          "output_type": "stream",
          "name": "stdout",
          "text": [
            "Ingrese la cantidad de numeros a ingresar\n",
            "   Cantidad de numeros: \n",
            "7\n",
            " Nº0: \n",
            "1\n",
            " Nº1: \n",
            "2\n",
            " Nº2: \n",
            "3\n",
            " Nº3: \n",
            "4\n",
            " Nº4: \n",
            "5\n",
            " Nº5: \n",
            "Hola\n",
            "Numero ingresado no valido\n",
            " Nº6: \n",
            "6\n",
            "La suma de los 3 numeros pares es de 12\n"
          ]
        }
      ]
    },
    {
      "cell_type": "markdown",
      "source": [
        "2- Escribir una función que tome una lista con distintos elementos (de cualquier tipo) y devuelva una lista sólo con los últimos tres números que aparecen."
      ],
      "metadata": {
        "id": "JOc__ybIoW7J"
      }
    },
    {
      "cell_type": "code",
      "source": [
        "def extractorDeNumeros (listaElementos):\n",
        "  listaNumeros = []\n",
        "  ultimosNumeros = []\n",
        "  cantDeseada = 3\n",
        "\n",
        "  for elemento in listaElementos:\n",
        "    if type(elemento)==int:\n",
        "      listaNumeros.append(elemento)\n",
        "\n",
        "  for contador in range(cantDeseada):\n",
        "    ultimosNumeros.append(listaNumeros[len(listaNumeros) - cantDeseada + contador])\n",
        "\n",
        "  return ultimosNumeros\n",
        "\n",
        "\n",
        "ultimosNumeros = extractorDeNumeros([\"Hola\", 13, \"como\", 7, \"estas\", 12, \"todo\", 10, \"bien\", 5, \"que\", 23, \"bueno\", 51])\n",
        "print(f\"Los ultimos numeros son {ultimosNumeros}\")\n"
      ],
      "metadata": {
        "colab": {
          "base_uri": "https://localhost:8080/"
        },
        "id": "0DPWS9HrocNq",
        "outputId": "a64af970-c94a-4d4a-bc78-1b9099283bba"
      },
      "execution_count": 25,
      "outputs": [
        {
          "output_type": "stream",
          "name": "stdout",
          "text": [
            "Los ultimos numeros son [5, 23, 51]\n"
          ]
        }
      ]
    }
  ]
}